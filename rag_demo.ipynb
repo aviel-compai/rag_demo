{
 "cells": [
  {
   "cell_type": "markdown",
   "id": "6ba5872672485f3a",
   "metadata": {
    "collapsed": false
   },
   "source": [
    "# Building a Retrieval-Augmented Generation (RAG) System with LangChain\n",
    "\n",
    "## Objectives\n",
    "- Understand the basics of RAG and its applications.\n",
    "- Learn how to use LangChain for AI model development.\n",
    "- Incorporate chat history into the RAG model for context-aware responses.\n",
    "- Implement a simple UI using Gradio to interact with our RAG model.\n",
    "\n",
    "Let's get started by installing the necessary libraries."
   ]
  },
  {
   "cell_type": "code",
   "execution_count": null,
   "id": "c47d59d31428ec42",
   "metadata": {
    "collapsed": false
   },
   "outputs": [],
   "source": [
    "# Install necessary libraries\n",
    "!pip install langchain html2text\n"
   ]
  },
  {
   "cell_type": "markdown",
   "id": "756f6722795845b5",
   "metadata": {
    "collapsed": false
   },
   "source": [
    "## Part 1: Basic RAG Example\n",
    "\n",
    "We'll start with a basic example of using LangChain for a question-answering task. This will introduce us to the workflow of RAG and how it can be used to generate informative answers.\n"
   ]
  },
  {
   "cell_type": "markdown",
   "id": "3623ec5d3d4d8f50",
   "metadata": {
    "collapsed": false
   },
   "source": [
    "For using an API key for OpenAI GPT, I'll use a .env file and import the key dynamically"
   ]
  },
  {
   "cell_type": "code",
   "execution_count": 1,
   "id": "a519a55d77780c07",
   "metadata": {
    "collapsed": false,
    "ExecuteTime": {
     "end_time": "2024-03-26T18:25:50.213618Z",
     "start_time": "2024-03-26T18:25:50.186445Z"
    }
   },
   "outputs": [
    {
     "data": {
      "text/plain": "True"
     },
     "execution_count": 1,
     "metadata": {},
     "output_type": "execute_result"
    }
   ],
   "source": [
    "from dotenv import load_dotenv\n",
    "load_dotenv()\n"
   ]
  },
  {
   "cell_type": "markdown",
   "id": "ab0f0401c17b43d0",
   "metadata": {
    "collapsed": false
   },
   "source": [
    "## Part 2: Loading an example text\n",
    "[State of The Union 2023](https://www.whitehouse.gov/state-of-the-union-2023/)"
   ]
  },
  {
   "cell_type": "code",
   "execution_count": 2,
   "id": "f0264d60b126c0c0",
   "metadata": {
    "collapsed": false,
    "ExecuteTime": {
     "end_time": "2024-03-26T18:27:26.782806Z",
     "start_time": "2024-03-26T18:27:23.780158Z"
    }
   },
   "outputs": [
    {
     "name": "stderr",
     "output_type": "stream",
     "text": [
      "Fetching pages: 100%|##########| 1/1 [00:00<00:00,  1.58it/s]\n"
     ]
    },
    {
     "name": "stdout",
     "output_type": "stream",
     "text": [
      "[Document(page_content='Skip to content\\n\\nThe White House\\n\\nThe White House\\n\\nThe White House\\n\\n  * Home \\n\\n  * Administration\\n  * Priorities\\n  * The Record\\n  * Briefing Room\\n  * Español\\n\\n  * InstagramOpens in a new window\\n  * FacebookOpens in a new window\\n  * XOpens in a new window\\n  * YouTubeOpens in a new window\\n\\n  * Contact Us\\n  * Privacy Policy\\n  * Copyright Policy\\n  * Accessibility Statement\\n\\nMenu Close\\n\\nTo search this site, enter a search term Search\\n\\n## Mobile Menu Overlay\\n\\n  * Administration Show submenu for \"Administration\"”\\n    * President Joe Biden\\n    * Vice President Kamala Harris\\n    * First Lady Dr. Jill Biden\\n    * Second Gentleman Douglas Emhoff\\n    * The Cabinet\\n  * Executive Offices Show submenu for \"Executive Offices\"”\\n    * Council of Economic Advisers\\n    * Council on Environmental Quality\\n    * Domestic Policy Council\\n    * Gender Policy Council\\n    * National Economic Council\\n    * National Security Council\\n    * National Space Council\\n    * Office of Intergovernmental Affairs\\n    * Office of Management and Budget\\n    * Office of the National Cyber Director\\n    * Office of National Drug Control Policy\\n    * Office of Public Engagement\\n    * Office of Science and Technology Policy\\n    * Office of the United States Trade Representative\\n    * Climate Policy Office\\n    * Presidential Personnel Office\\n  * Priorities\\n\\n  * Briefing Room\\n  * The White House Show submenu for \"The White House\"”\\n    * Presidents\\n    * First Families\\n    * The Grounds\\n    * Our Government\\n  * Get Involved Show submenu for \"Get Involved\"”\\n    * Write or Call The White House\\n    * Join Us\\n    * White House Fellows\\n    * White House Internship Program\\n\\n  * The Record\\n  * Disclosures\\n  * Español\\n\\n  * Contact Us\\n  * Privacy Policy\\n  * Copyright Policy\\n  * Accessibility Statement\\n\\n  * InstagramOpens in a new window\\n  * FacebookOpens in a new window\\n  * XOpens in a new window\\n  * YouTubeOpens in a new window\\n\\n**The White House**  \\n1600 Pennsylvania Ave NW  \\nWashington, DC 20500\\n\\nTo search this site, enter a search term Search\\n\\nFebruary 7, 2023\\n\\n# State of the Union Address\\n\\nRead The Full Speech\\n\\n## President Biden’s State of the Union Address\\n\\nMr. Speaker —\\n\\nThank you. You can smile. It’s okay.\\n\\nThank you, thank you, thank you. Thank you. Please.\\n\\nMr. Speaker, Madam Vice President, our First Lady and Second Gentleman — good\\nto see you guys up there — members of Congress —\\n\\nAnd, by the way, Chief Justice, I may need a court order. She gets to go to\\nthe game tomorr- — next week. I have to stay home. We got to work something\\nout here.\\n\\nMembers of the Cabinet, leaders of our military, Chief Justice, Associate\\nJustices, and retired Justices of the Supreme Court, and to you, my fellow\\nAmericans:\\n\\nYou know, I start tonight by congratulating the 118th Congress and the new\\nSpeaker of the House, Kevin McCarthy.\\n\\nSpeaker, I don’t want to ruin your reputation, but I look forward to working\\nwith you.\\n\\nAnd I want to congratulate the new Leader of the House Democrats, the first\\nAfrican American Minority Leader in history, Hakeem Jeffries.\\n\\nHe won despite the fact I campaigned for him.\\n\\nCongratulations to the longest-serving Leader in the history of the United\\nStates Senate, Mitch McConnell. Where are you, Mitch?\\n\\nAnd congratulations to Chuck Schumer, another — you know, another term as\\nSenate ~~Minority~~ [Majority] Leader. You know, I think you — only this time\\nyou have a slightly bigger majority, Mr. Leader. And you’re the Majority\\nLeader. About that much bigger? Yeah.\\n\\nWell, I tell you what — I want to give specolec- — special recognition to\\nsomeone who I think is going to be considered the greatest Speaker in the\\nhistory of the House of Representatives: Nancy Pelosi.\\n\\nFolks, the story of America is a story of progress and resilience, of always\\nmoving forward, of never, ever giving up. It’s a story unique among all\\nnations.\\n\\nWe’re the only country that has emerged from every crisis we’ve ever entered\\nstronger than we got into it.\\n\\nLook, folks, that’s what we’re doing again.\\n\\nTwo years ago, the economy was reeling. I stand here tonight, after we’ve\\ncreated, with the help of many people in this room, 12 million new jobs — more\\njobs created in two years than any President has created in four years —\\nbecause of you all, because of the American people.\\n\\nMore Jobs\\n\\n> As I address Congress tonight, we have created a record 12 million new jobs.  \\n>  \\n> That’s more jobs created in two years than any president has ever created in\\n> four years.\\n>\\n> -- President Biden (@POTUS) February 8, 2023\\n\\nTwo years ago — and two years ago, COVID had shut down — our businesses were\\nclosed, our schools were robbed of so much. And today, COVID no longer\\ncontrols our lives.\\n\\nAnd two years ago, our democracy faced its greatest threat since the Civil\\nWar. And today, though bruised, our democracy remains unbowed and unbroken.\\n\\nAs we gather here tonight, we’re writing the next chapter in the great\\nAmerican story — a story of progress and resilience.\\n\\nWhen world leaders ask me to define America — and they do, believe it or not —\\nI say I can define it in one word, and I mean this: possibilities. We don’t\\nthink anything is beyond our capacity. Everything is a possibility.\\n\\nYou know, we’re often told that Democrats and Republicans can’t work together.\\nBut over the past two years, we proved the cynics and naysayers wrong.\\n\\nBipartisan\\n\\n> We\\'re told that Democrats and Republicans can\\'t work together.  \\n>  \\n> But together we defended a safer Europe.  \\n> Passed an infrastructure law.  \\n> Launched a new era of manufacturing.  \\n> Got help to toxic-exposed veterans.  \\n>  \\n> We did it last Congress. There\\'s no reason we can\\'t do it again.\\n>\\n> -- President Biden (@POTUS) February 8, 2023\\n\\nYes, we disagreed plenty. And yes, there were times when Democrats went alone.\\n\\nBut time and again, Democrats and Republicans came together. Came together to\\ndefend a stronger and safer Europe. You came together to pass one in a gen- —\\none-in-a-generation — once-in-a-generation infrastructure law building bridges\\nconnecting our nation and our people. We came together to pass one the most\\nsignificant law ever helping victims exposed to toxic burn pits. And, in fact\\n— it’s important.\\n\\nAnd, in fact, I signed over 300 bipartisan pieces of legislation since\\nbecoming President, from reauthorizing the Violence Against Women Act to the\\nElectoral Count Reform Act, the Respect for Marriage Act that protects the\\nright to marry the person you love.\\n\\nAnd to my Republican friends, if we could work together in the last Congress,\\nthere’s no reason we can’t work together and find consensus on important\\nthings in this Congress as well.\\n\\nI think — folks, you all are just as informed as I am, but I think the people\\nsent us a clear message: Fighting for the sake of fighting, power for the sake\\nof power, conflict for the sake of conflict gets us nowhere.\\n\\nThat’s always been my vision of our country, and I know it’s many of yours: to\\nrestore the soul of this nation; to rebuild the backbone of America, America’s\\nmiddle class; and to unite the country.\\n\\nhttps://www.whitehouse.gov/state-of-the-\\nunion-2023/?utm_source=link&share_id=xLCLvQFx Share This\\n\\nWe’ve been sent here to finish the job, in my view.\\n\\nFor decades, the middle class has been hollowed out in more than — and not in\\none administration, but for a long time. Too many good-paying manufacturing\\njobs moved overseas. Factories closed down. Once-thriving cities and towns\\nthat many of you represent became shadows of what they used to be. And along\\nthe way, something else we lost: pride, our sense of self-worth.\\n\\nI ran for President to fundamentally change things. To make sure the economy\\nworks for everyone so we can all feel that pride in what we do. To build an\\neconomy from the bottom up and the middle out, not from the top down. Because\\nwhen the middle class does well, the poor have a ladder up and the wealthy\\nstill do very well. We all do well.\\n\\nI know a lot of you always kid me for always quoting my dad. But my dad used\\nto say, “Joey, a job is about a lot more than a paycheck.” He really would say\\nthis. “It’s about a lot more than a paycheck. It’s about your dignity. It’s\\nabout respect. It’s about being able to look your kid in the eye and say,\\n‘Honey, it’s going to be okay’ and mean it.”\\n\\nWell, folks, so let’s look at the results. We’re not finished yet, by any\\nstretch of the imagination. But unemployment rate is at 3.4 percent –- a\\n50-year low. And near record — and near record unemployment — near record\\nunemployment for Black and Hispanic workers.\\n\\nEconomic Progress\\n\\nhttps://www.whitehouse.gov/state-of-the-\\nunion-2023/?utm_source=link&share_id=dbCGBQFE Share This\\n\\n> Our Administration created 800,000 manufacturing jobs – the fastest growth\\n> in 40 years.  \\n>  \\n> Where is it written that America can’t lead the world in manufacturing\\n> again?\\n>\\n> -- President Biden (@POTUS) February 8, 2023\\n\\nWe’ve already created, with your help, 800,000 good-paying manufacturing jobs\\n— the fastest growth in 40 years.\\n\\nAnd where is it written — where is it written that America can’t lead the\\nworld in manufacturing? And I don’t know where that’s written.\\n\\nFor too many decades, we imported projects and exported jobs. Now, thanks to\\nwhat you’ve all done, we’re exporting American products and creating American\\njobs.\\n\\nFolks, inflation — inflation has been a global problem because the pandemic\\ndirup- — disrupted our supply chains, and Putin’s unfair and brutal war in\\nUkraine disrupted ener- — energy supplied as well as food supplies, blocking\\nall that grain in Ukraine.\\n\\nBut we’re better positioned than any country on Earth right now. But we have\\nmore to do.\\n\\nBut here at home, inflation is coming down. Here at home, gas prices are down\\n$1.50 from their peak.\\n\\nFood inflation is coming down — not fast enough, but coming down.\\n\\nInflation has fallen every month for the last six months, while take-home pay\\nhas gone up.\\n\\nAdditionally, over the last two years, a record 10 million Americans applied\\nto start new businesses. Ten million.\\n\\nAnd, by the way, every time — every time someone starts a small business, it’s\\nan act of hope.\\n\\nAnd, Madam Vice President, I want to thank you for leading that effort to\\nensure that small businesses have access to capital and the historic laws we\\nenacted that are going to just come into being.\\n\\nStanding here last year, I shared with you a story of American genius and\\npossibilities.\\n\\nSemiconductors — small computer chips the size of a fingerprint that power\\neverything from cellphones to automobiles and so much more. These chips were\\ninvented in America. Let’s get that straight: They were invented in America.\\n\\nAnd we used to make 40 percent of the world’s chips. In the last several\\ndecades, we lost our edge. We’re down to only producing 10 percent.\\n\\nWe all saw what happened during the pandemic when chip factories shut down\\noverseas.\\n\\nToday’s automobiles need 3,000 chips — each of those automobiles — but\\nAmerican ~~automobiles~~ [automakers] couldn’t make enough cars because there\\nweren’t enough chips.\\n\\nCar prices went up. People got laid off. So did everything from refrigerators\\nto cellphones.\\n\\nWe can never let that happen again.\\n\\nThat’s why — that’s why we came together to pass the bipartisan CHIPS and\\nScience Act.\\n\\nMade in America\\n\\nhttps://www.whitehouse.gov/state-of-the-\\nunion-2023/?utm_source=link&share_id=XrC87Xu6 Share This\\n\\nFolks, I know I’ve been criticized for saying this, but I’m not changing my\\nview. We’re going to make sure the supply chain for America begins in America\\n— the supply chain begins in America.\\n\\nAnd we’ve already created — we’ve already created 800,000 new manufacturing\\njobs without this law, before the law kicks in.\\n\\nWith this new law, we’re going to create hundreds of thousands of new jobs\\nacross the country. And I mean all across the country, throughout — not just\\nthe coast, but through the middle of the country as well.\\n\\nThat’s going to come from companies that have announced more than $300 billion\\nin investments in American manufacturing over the next few years.\\n\\nOutside of Columbus, Ohio, Intel is building semiconductor factories on a\\nthousand acres — literally a field of dreams.\\n\\nIt’s going to create 10,000 jobs, that one investment; 7,000 construction\\njobs; 3,000 jobs in those factories once they’re finished. They call them\\nfactors. Jobs paying an average of $130,000 a year, and many do not require a\\ncollege degree.\\n\\nJobs — because we worked together, these jobs where people don’t have to leave\\nhome to search for opportunity.\\n\\nAnd it’s just getting started.\\n\\nThink about the new homes, the small businesses, the big — the medium-sized\\nbusinesses. So much more that’s going to be needed to support those three\\nthou- — those 3,000 permanent jobs and the factories that are going to be\\nbuilt.\\n\\nTalk to mayors and governors, Democrats and Republicans, and they’ll tell you\\nwhat this means for their communities.\\n\\nWe’re seeing these fields of dreams transform the Heartland. But to maintain\\nthe strongest economy in the world, we need the best infrastructure in the\\nworld.\\n\\nAnd, folks, as you all know, we used to be number one in the world in\\ninfrastructure. We’ve sunk to 13th in the world. The United States of America\\n— 13th in the world in infrastructure, modern infrastructure.\\n\\nBut now we’re coming back because we came together and passed the Bipartisan\\nInfrastructure Law — the largest investment in infrastructure since President\\nEisenhower’s Interstate Highway System.\\n\\nRebuilding Infrastructure\\n\\nhttps://www.whitehouse.gov/state-of-the-\\nunion-2023/?utm_source=link&share_id=P9CGm7FM Share This\\n\\n> To maintain the strongest economy in the world, we also need the best\\n> infrastructure in the world.  \\n>  \\n> And already, we’ve funded over 20,000 projects across America.\\n>\\n> -- President Biden (@POTUS) February 8, 2023\\n\\nFolks, already we’ve funded over 20,000 projects, including major airports\\nfrom Boston to Atlanta to Portland — projects that are going to put thousands\\nof people to work rebuilding our highways, our bridges, our railroads, our\\ntunnels, ports, airports, clean water, high-speed Internet all across America\\n— urban, rural, Tribal.\\n\\nAnd, folks, we’re just getting started. We’re just getting started.\\n\\nAnd I mean this sincerely: I want to thank my Republican friends who voted for\\nthe law. And my Republican friends who voted against it as well — but I’m\\nstill — I still get asked to fund the projects in those districts as well, but\\ndon’t worry. I promised I’d be a President for all Americans. We’ll fund these\\nprojects. And I’ll see you at the groundbreaking.\\n\\nLook, this law — this law will further unite all of America.\\n\\nProjects like the Brent Spence Bridge in Kentucky over the Ohio River. Built\\n60 years ago. Badly in need of repairs. One of the nation’s most congested\\nfreight routes, carrying $2 billion worth of freight every single day across\\nthe Ohio River.\\n\\nAnd, folks, we’ve been talking about fixing it for decades, but we’re really\\nfinally going to get it done.\\n\\nI went there last month with Democrats and Republicans in — from both states —\\nto deliver a commitment of $1.6 billion for this project.\\n\\nAnd while I was there, I met a young woman named Saria, who’s here tonight. I\\ndon’t know where Saria is. Is she up in the box? I don’t know. Saria, how are\\nyou?\\n\\n> Saria joined me at my State of the Union tonight. She\\'s an ironworker and\\n> proud member of Iron workers Local 44 who built the Cincinnati skyline.  \\n>  \\n> Saria said she can’t wait to be ten stories above the Ohio River building\\n> that new bridge.  \\n>  \\n> Pride. That\\'s what we\\'re building. pic.twitter.com/FB6qQHneHS\\n>\\n> -- President Biden (@POTUS) February 8, 2023\\n\\nWell, Saria — for 30 years — for 30 years — I learned — she told me she’d been\\na proud member of the Iron workers Local 44, known as — — known as the\\n“Cowboys in the Sky” — — the folks who built — who built Cincinnati’s skyline.\\n\\nSaria said she can’t wait to be 10 stories above the Ohio River building that\\nnew bridge. God bless her. That’s pride.\\n\\nAnd that’s what we’re also building — we’re building back pride.\\n\\nLook, we’re also replacing poisonous lead pipes that go into 10 million homes\\nin America, 400,000 schools and childcare centers so every child in America —\\nevery child in American can drink the water, instead of having permanent\\ndamage to their brain.\\n\\nLook, we’re making sure — — we’re making sure that every community — every\\ncommunity in America has access to affordable, high-speed Internet.\\n\\nNo parent should have to drive by a McDonald’s parking lot to help their — do\\ntheir homework online with their kids, which many — thousands were doing\\nacross the country.\\n\\nAnd when we do these projects — and, again, I get criticized about this, but I\\nmake no excuses for it — we’re going to buy American. We’re going to buy\\nAmerican.\\n\\nFolks — — and it’s totally — it’s totally consistent with international trade\\nrules. Buy American has been the law since 1933. But for too long, past\\nadministrations — Democrat and Republican — have fought to get around it. Not\\nanymore.\\n\\nTonight, I’m also announcing new standards to require all construction\\nmaterials used in federal infra- — infrastructure projects to be made in\\nAmerica. Made in America. I mean it. Lumber, glass, drywall, fiber-optic\\ncable.\\n\\nAnd on my watch, American roads, bridges, and American highways are going to\\nbe made with American products as well.\\n\\nFolks, my economic plan is about investing in places and people that have been\\nforgotten. So many of you listening tonight, I know you feel it. So many of\\nyou felt like you’ve just simply been forgotten. Amid the economic upheaval of\\nthe past four decades, too many people have been left behind and treated like\\nthey’re invisible.\\n\\nMaybe that’s you, watching from home. You remember the jobs that went away.\\nYou remember them, don’t you?\\n\\nThe folks at home remember them. You wonder whether the path even exists\\nanymore for your children to get ahead without having to move away.\\n\\nWell, that’s why — I get that. That’s why we’re building an economy where no\\none is left behind.\\n\\nJobs are coming back, pride is coming back because of choices we made in the\\nlast several years.\\n\\nYou know, this is, in my view, a blue-collar blueprint to rebuild America and\\nmake a real difference in your lives at home.\\n\\nFor example, too many of you lay in bed at night, like my dad did, staring at\\nthe ceiling, wondering what in God’s name happens if yo- — if your spouse gets\\ncancer or your child gets deadly ill or if something happens to you. What are\\nyou going — are you going to have the money to pay for those medical bills?\\nAre you going to have to sell the house or try to get a second mortgage on it?\\n\\nI get it. I get it.\\n\\nWith the Inflation Reduction Act that I signed into law, we’re taking on\\npowerful interests to bring healthcare costs down so you can sleep better at\\nnight with more security.\\n\\nEveryday Expenses\\n\\nhttps://www.whitehouse.gov/state-of-the-\\nunion-2023/?utm_source=link&share_id=8nCewbHn Share This\\n\\nYou know, we pay more for prescription drugs than any nation in the world. Let\\nme say it again: We pay more for prescription drugs than any major nation on\\nEarth.\\n\\nFor example, 1 in 10 Americans has diabetes. Many of you in this chamber do\\nand in the audience. But every day, millions need insulin to control their\\ndiabetes so they can literally stay alive. Insulin has been around for over\\n100 years. The guy who invented it didn’t even patent it because he wanted it\\nto be available for everyone.\\n\\nIt costs the drug companies roughly $10 a vial to make that insulin. Package\\nit and all, you may get up to $13. But Big Pharma has been unfairly charging\\npeople hundreds of dollars — $4- to $500 a month — making rec- — record\\nprofits. Not anymore. Not anymore.\\n\\nSo — so many things that we did are only now coming to fruition. We said we\\nwere doing this and we said we’d pass the law to do it, but people didn’t know\\nbecause the law didn’t take effect until January 1 of this year.\\n\\nWe capped the cost of insulin at $35 a month for seniors on Medicare. But\\npeople are just finding out. I’m sure you’re getting the same calls I’m\\ngetting.\\n\\nInsulin Cap\\n\\nhttps://www.whitehouse.gov/state-of-the-\\nunion-2023/?utm_source=link&share_id=AwCVPNcW Share This\\n\\n> We capped the cost of insulin at $35 a month for seniors on Medicare and\\n> lowered insurance premiums for millions of Americans.  \\n>  \\n> Let’s finish the job.  \\n>  \\n> Let\\'s cap the cost of insulin for every American who needs it. And make\\n> those health care savings permanent.\\n>\\n> -- President Biden (@POTUS) February 8, 2023\\n\\nLook, there are millions of other Americans who do not — are not on Medicare,\\nincluding 200,000 young people with Type 1 diabetes who need these insulin —\\nneed this insulin to stay alive.\\n\\nLet’s finish the job this time. Let’s cap the cost of insulin for everybody at\\n$35.\\n\\nFolks — and Big Pharma is still going to do very well, I promise you all. I\\npromise you they’re going to do very well.\\n\\nThis law also — this law also caps — and it won’t even go into effect until\\n2025. It ~~costs~~ [caps] out-of-pocket drug costs for seniors on Medicare at\\na maximum of $2,000 a year. You don’t have to pay more than $2,000 a year, no\\nmatter how much your drug costs are. Because you know why? You all know it.\\n\\nMany of you, like many of my family, have cancer. You know the drugs can range\\nfrom $10-, $11-, $14-, $15,000 for the cancer drugs.\\n\\nAnd if drug prices rise faster than inflation, drug companies are going to\\nhave to pay Medicare back the difference.\\n\\nAnd we’re finally — we’re finally giving Medicare the power to negotiate drug\\nprices.\\n\\nBringing down — bringing down prescription drug costs doesn’t just save\\nseniors money, it cuts the federal deficit by billions of dollars — — by\\nhundreds of billions of dollars because these prescription drugs are drugs\\npurchased by Medicare to make — keep their commitment to the seniors.\\n\\nWell, guess what? Instead of paying 4- or 500 bucks a month, you’re paying 15.\\nThat’s a lot of savings for the federal government.\\n\\nAnd, by the way, why wouldn’t we want that?\\n\\nNow, some members here are threatening — and I know it’s not an official party\\nposition, so I’m not going to exaggerate — but threatening to repeal the\\nInflation Reduction Act.\\n\\nAs my coach — that’s okay. That’s fair. As my football coach used to say,\\n“Lots of luck in your senior year.”\\n\\nMake no mistake, if you try anything to raise the cost of prescription drugs,\\nI will veto it.\\n\\nAnd, look, I’m pleased to say that more Americans health — have health\\ninsurance now than ever in history. A record 16 million people are enrolled in\\nthe Affordable Care Act.\\n\\nAnd thanks — thanks to the law I signed last year, saving — millions are\\nsaving $800 a year on their premiums.\\n\\nAnd, by the way, that law was written — and the benefit expires in 2025. So,\\nmy plea to some of you, at least in this audience: Let’s finish the job and\\nmake those savings permanent. Expand coverage on Medicaid.\\n\\nLook, the Inflation Reduction Act is also the most significant investment ever\\nin climate change — ever. Lowering utility bills, creating American jobs,\\nleading the world to a clean energy future.\\n\\nI visited the devastating aftermath of record floods, droughts, storms, and\\nwildfires from Arizona to New Mexico to all the way up to the Canadian border.\\n\\nMore timber has been burned that I’ve observed from helicopters than the\\nentire state of Missouri. And we don’t have global warming? Not a problem.\\n\\nIn addition to emergency recovery from Puerto Rico to Florida to Idaho, we’re\\nrebuilding for the long term.\\n\\nNew electric grids that are able to weather major storms and not — prevent\\nthose fire — forest fires. Roads and water systems to withstand the next big\\nflood. Clean energy to cut pollution and create jobs in communities often left\\nbehind.\\n\\nWe’re going to build 500,000 electric vehicle charging stations, installed\\nacross the country by tens of thousands of IBEW workers.\\n\\nAnd we’re helping families save more than $1,000 a year with tax credits to\\npurchase of electric vehicles and efficient — and efficient appliances —\\nenergy-efficient appliances.\\n\\nHistoric conservation efforts to be responsible stewards of our land.\\n\\nLet’s face reality. The climate crisis doesn’t care if you’re in a red or a\\nblue state. It’s an existential threat.\\n\\nWe have an obligation not to ourselves, but to our children and grandchildren\\nto confront it.\\n\\nI’m proud of how the — how America, at last, is stepping up to the challenge.\\nWe’re still going to need oil and gas for a while, but guess what — — no, we\\ndo — but there’s so much more to do. We got to finish the job.\\n\\nAnd we pay for these investments in our future by finally making the\\nwealthiest and biggest corporations begin to pay their fair share. Just begin.\\n\\nLook, I’m a capitalist. I’m a capitalist. But pay your fair share.\\n\\nI think a lot of you at home — a lot of you at home agree with me and many\\npeople that you know: The tax system is not fair. It is not fair.\\n\\nLook, the idea that in 2020, 55 of the largest corporations in America, the\\nFortune 500, made $40 billion in profits and paid zero in federal taxes? Zero.\\n\\nFolks, it’s simply not fair.\\n\\nBut now, because of the law I signed, billion-dollar companies have to pay a\\nminimum of 15 percent. God love them. Fifteen percent. That’s less than a\\nnurse pays.\\n\\nLet me be crystal clear. I said at the very beginning: Under my plans, as long\\nas I’m President, nobody earning less than $400,000 will pay an additional\\npenny in taxes. Nobody. Not one penny.\\n\\nBut let’s finish the job. There’s more to do.\\n\\nWe have to reward work, not just wealth. Pass my proposal for the billionaire\\nminimum tax. You know, there’s a thousand billionaires in America — it’s up\\nfrom about 600 at the beginning of my term — but no billionaire should be\\npaying a lower tax rate than a school teacher or a firefighter. No, I mean it.\\nThink about it.\\n\\nBillionaire Minimum Tax\\n\\nhttps://www.whitehouse.gov/state-of-the-\\nunion-2023/?utm_source=link&share_id=mkCXxeTk Share This\\n\\nI mean, look, I know you all aren’t enthusiastic about that, but think about\\nit. Think about it.\\n\\nHave you noticed — Big Oil just reported its profits. Record profits. Last\\nyear, they made $200 billion in the midst of a global energy crisis. I think\\nit’s outrageous.\\n\\nWhy? They invested too little of that profit to increase domestic production.\\nAnd when I talked to a couple of them, they say, “We were afraid you were\\ngoing to shut down all the oil wells and all the oil refineries anyway, so why\\nshould we invest in them?” I said, “We’re going to need oil for at least\\nanother decade, and that’s going to exceed…” — and beyond that. We’re going to\\nneed it. Production.\\n\\nIf they had, in fact, invested in the production to keep gas prices down —\\ninstead they used the record profits to buy back their own stock, rewarding\\ntheir CEOs and shareholders.\\n\\nCorporations ought to do the right thing.\\n\\nThat’s why I propose we quadruple the tax on corporate stock buybacks and\\nencourage long- — — long-term investments. They’ll still make considerable\\nprofit.\\n\\nLet’s finish the job and close the loopholes that allow the very wealthy to\\navoid paying their taxes.\\n\\nInstead of cutting the number of audits for wealthy taxpayers, I just signed a\\nlaw to reduce the deficit by $114 billion by cracking down on wealthy tax\\ncheats. That’s being fiscally responsible.\\n\\nIn the last two years, my administration has cut the deficit by more than $1.7\\ntrillion –- the largest deficit reduction in American history.\\n\\nUnder the previous administration, the American deficit went up four years in\\na row.\\n\\nBecause of those record deficits, no President added more to the national debt\\nin any four years than my predecessor.\\n\\nNearly 25 percent of the entire national debt that took over 200 years to\\naccumulate was added by just one administration alone — the last one. They’re\\nthe facts. Check it out. Check it out.\\n\\nNational Debt\\n\\n> Nearly 25% of our country’s debt was added under my predecessor.  \\n>  \\n> How did Congress respond? They lifted the debt ceiling three times. They\\n> paid America’s bills. Tonight, I’m asking this Congress to follow suit.  \\n>  \\n> The full faith and credit of America will never be questioned.\\n>\\n> -- President Biden (@POTUS) February 8, 2023\\n\\nHow did Congress respond to that debt? They did the right thing. They lifted\\nthe debt ceiling three times without preconditions or crisis. They paid the\\nAmerican bill to prevent an economic disaster of the country.\\n\\nSo, tonight I’m asking the Congress to follow suit. Let us commit here tonight\\nthat the full faith and credit of the United States of America will never,\\never be questioned.\\n\\nSo my — many of — some of my Republican friends want to take the economy\\nhostage — I get it — unless I agree to their economic plans. All of you at\\nhome should know what those plans are.\\n\\nInstead of making the wealthy pay their fair share, some Republicans — some\\nRepublicans want Medicare and Social Security to sunset. I’m not saying it’s a\\nmajority —\\n\\nLet me give you —\\n\\nAnybody who doubts it, contact my office. I’ll give you a copy. I’ll give you\\na copy of the proposal.\\n\\nThat means Congress doesn’t vote —\\n\\nWell, I’m glad to see — no, I tell you, I enjoy conversion.\\n\\nYou know, it means if Congress doesn’t keep the programs the way they are,\\nthey’d go away.\\n\\nOther Republicans say — I’m not saying it’s a majority of you. I don’t even\\nthink it’s a significant —\\n\\n— but it’s being proposed by individuals.\\n\\nI’m not — politely not naming them, but it’s being proposed by some of you.\\n\\nLook, folks, the idea is that we’re not going to be — we’re not going to be\\nmoved into being threatened to default on the debt if we don’t respond.\\n\\nFolks — so, folks, as we all apparently agree, Social Security and Medicare is\\noff the — off the books now, right? They’re not to be touched?\\n\\nAll right. All right. We got unanimity! Social Security and Medicare are a\\nlifeline for millions of seniors. Americans have to pay into them from the\\nvery first paycheck they’ve started.\\n\\nSo, tonight, let’s all agree — and we apparently are — let’s stand up for\\nseniors. Stand up and show them we will not cut Social Security. We will not\\ncut Medicare.\\n\\nSeniors on Medicare\\n\\nhttps://www.whitehouse.gov/state-of-the-\\nunion-2023/?utm_source=link&share_id=pQCm2BCz Share This\\n\\nThose benefits belong to the American people. They earned it. And if anyone\\ntries to cut Social Security — which apparently no one is going to do — and if\\nanyone tries to cut Medicare, I’ll stop them. I’ll veto it.\\n\\nAnd, look, I’m not going to allow them to take away — be taken away. Not\\ntoday. Not tomorrow. Not ever.\\n\\nBut apparently, it’s not going to be a problem.\\n\\nNext month, when I offer my fiscal plan, I ask my Republican friends to lay\\ndown their plan as well. I really mean it. Let’s sit down together and discuss\\nour mutual plans together. Let’s do that.\\n\\nI can tell you, the plan I’m going to show you is going to cut the deficit by\\nanother $2 trillion. And it won’t cut a single bit of Medicare or Social\\nSecurity.\\n\\nIn fact, we’re going to extend the Medicare Trust Fund at least two decades,\\nbecause that’s going to be the next argument: how do we make — keep it\\nsolvent. Right?\\n\\nWell, I will not raise taxes on anyone making under 400 grand. But we’ll pay\\nfor it the way we talked about tonight: by making sure that the wealthy and\\nbig corporations pay their fair share.\\n\\nLook — look, look, here’s — here’s the deal. They aren’t just taking advantage\\nof the tax code, they’re taking advantage of you, the American consumer.\\n\\nHere’s my message to all of you out there: I have your back. We’re already\\npreventing Americans ~~who are~~ [from] receiving surprise medical bills,\\nstopping ~~1 billion dollar~~ [1 million] surprise bills per month so far.\\n\\nWe’re protecting seniors’ life savings by cracking down on nursing homes that\\ncommit fraud, endanger patient safety, or prescribe drugs that are not needed.\\n\\nMillions of Americans can now save thousands of dollars because they can\\nfinally get a hearing aid over the counter without a prescription.\\n\\nLook, capitalism without competition is not capitalism. It’s extortion. It’s\\nexploitation.\\n\\nLast year, I cracked down, with the help of many of you, on foreign shipping\\ncompanies that were making you pay higher prices for every good coming into\\nthe country.\\n\\nI signed a bipartisan bill that cut shipping costs by 90 percent, helping\\nAmerican farmers, businessmen, and consumers.\\n\\nLet’s finish the job. Pass the bipartisan legislation to strengthen and — to\\nstrengthen antitrust enforcement and forbeg — and prevent big online platforms\\nfrom giving their own products an unfair advantage.\\n\\nMy administration is also taking on junk fees, those hidden surcharges too\\nmany companies use to make you pay more.\\n\\nFor example, we’re making airlines show you the full ticket price upfront,\\nrefund your money if your flight is cancelled or delayed. We’ve reduced\\nexorbitant bank overdrafts by saving consumers more than $1 billion a year.\\n\\nWe’re cutting credit card late fees by 75 percent, from $30 to $8.\\n\\nLook, junk fees may not matter to the very wealthy, but they matter to most\\nother folks in homes like the one I grew up in, like many of you did. They add\\nup to hundreds of dollars a month. They make it harder for you to pay your\\nbills or afford that family trip.\\n\\nI know how unfair it feels when a company overcharges you and gets away with\\nit. Not anymore.\\n\\nWe’ve written a bill to stop it all. It’s called the Junk Fee Prevention Act.\\nWe’re going to ban surprise resort fees that hotels charge on your bill. Those\\nfees can cost you up to $90 a night at hotels that aren’t even resorts.\\n\\nJunk Fees\\n\\nhttps://www.whitehouse.gov/state-of-the-\\nunion-2023/?utm_source=link&share_id=5NC6plIQ Share This\\n\\nWe — the idea that cable, Internet, and cellphone companies can charge you\\n$200 or more if you decide to switch to another provider. Give me a break.\\n\\nWe can stop service fees on tickets to concerts and sporting events and make\\ncompanies disclose all the fees upfront.\\n\\nAnd we’ll prohibit airlines from charging $50 roundtrip for a family just to\\nbe able to sit together. Baggage fees are bad enough. Airlines can’t treat\\nyour child like a piece of baggage.\\n\\nAmericans are tired of being — we’re tired of being played for suckers.\\n\\nSo pass — pass the Junk Fee Prevention Act so companies stop ripping us off.\\n\\nFor too long, workers have been getting stiffed, but not anymore. We’re going\\nto be — we’re beginning to restore the dignity of work.\\n\\nFor example, I — I should have known this, but I didn’t until two years ago:\\nThirty million workers have to sign non-compete agreements for the jobs they\\ntake. Thirty million. So a cashier at a burger place can’t walk across town\\nand take the same job at another burger place and make a few bucks more.\\n\\nIt just changed. Well, they just changed it because we exposed it. That was\\npart of the deal, guys. Look it up. But not anymore.\\n\\nWe’re banning those agreements so companies have to compete for workers and\\npay them what they’re worth.\\n\\nAnd I must tell you, this is bound to get a response from my friends on my\\nleft, with the right.\\n\\nI’m so sick and tired of companies breaking the law by preventing workers from\\norganizing. Pass the PRO Act! Because businesses have a right — workers have a\\nright to form a union. And let’s guarantee all workers have a living wage.\\n\\nLet’s make sure working parents can afford to raise a family with sick days,\\npaid family and medical leave, affordable childcare. That’s going to enable\\nmillions of more people to go and stay at work.\\n\\nAnd let’s restore the full Child Tax Credit — — which gave tens of millions of\\nparents some breathing room and cut child poverty in half to the lowest level\\nin history.\\n\\nAnd, by the way, when we do all of these things, we increase productivity, we\\nincrease economic growth.\\n\\nSo let’s finish the job and get more families access to affordable, quality\\nhousing.\\n\\nLet’s get seniors who want to stay in their homes the care they need to do so.\\nLet’s give more breathing room to millions of family caregivers looking after\\ntheir loved ones.\\n\\nPass my plan so we get seniors and people with disabilities the home care\\nservices they need — — and support the workers who are doing God’s work.\\n\\nThese plans are fully paid for, and we can afford to do them.\\n\\nRestoring the dignity of work means making education an affordable ticket to\\nthe middle class.\\n\\nYou know, when we made public education — 12 years of it — universal in the\\nlast century, we made the best-educated, best-paid — we became the best-\\neducation, best-paid nation in the world.\\n\\nBut the rest of the world has caught up. It has caught up.\\n\\nJill, my wife, who teaches full-time, has an expression. I hope I get it\\nright, kid. “Any nation that out-educates is going to out-compete us.” Any\\nnation that out-educates is going to out-compete us.\\n\\nFolks, we all know 12 years of education is not enough to win the economic\\ncompetition of the 21st century. If we want to have the best-educated\\nworkforce, let’s finish the job by providing access to preschool for three and\\nfour years old. Studies show that children who go to preschool are nearly 50\\npercent more likely to finish high school and go on to earn a two- or four-\\nyear degree, no matter their background they came from.\\n\\nLet’s give public school teachers a raise.\\n\\nWe’re making progress by reducing student debt, increasing Pell Grants for\\nworking and middle-class families.\\n\\nLet’s finish the job and connect students to career opportunities starting in\\nhigh school, provide access to two years of community college — the best\\ncareer training in America, in addition to being a pathway to a four-year\\ndegree.\\n\\nLet’s offer every American a path to a good career, whether they go to college\\nor not.\\n\\nAnd, folks — folks, in the midst of the COVID crisis, when schools were closed\\nand we were shutting down everything, let’s recognize how far we came in the\\nfight against the pandemic itself.\\n\\nWhile the virus is not gone, thanks to the resilience of the American people\\nand the ingenuity of medicine, we’ve broken the COVID grip on us.\\n\\nCOVID deaths are down by 90 percent. We’ve saved millions of lives and opened\\nup our country — we opened our country back up. And soon, we’ll end the public\\nhealth emergency.\\n\\nBut — that’s called a public health emergency.\\n\\nBut we’ll remember the toll and pain that’s never going to go away. More than\\na million Americans lost their lives to COVID. A million. Families grieving.\\nChildren orphaned. Empty chairs at the dining room table constantly reminding\\nyou that she used to sit there. Remembering them, we remain vigilant.\\n\\nWe still need to monitor dozens of variants and support new vaccines and\\ntreatments. So Congress needs to fund these efforts and keep America safe.\\n\\nAnd as we emerge from this crisis stronger, we’re also — got to double down\\nprosecuting criminals who stole relief money meant to keep workers and small\\nbusinesses afloat.\\n\\nBefore I came to office, you remember, during that campaign, the big issue was\\nabout inspector generals who would protect taxpayers’ dollars, who were\\nsidelined. They were fired. Many people said, “We don’t need them.” And fraud\\nbecame rampant.\\n\\nLast year, I told you the watchdogs are back. Since then — since then, we’ve\\nrecovered billions of taxpayers’ dollars.\\n\\nNow let’s triple the anti-fraud strike force going after these criminals,\\ndouble the statute of limitations on these crimes, and crack down on identity\\nfraud by criminal syndicates stealing billions of dollars — billions of\\ndollars from the American people.\\n\\nAnd the data shows that for every dollar we put into fighting fraud, the\\ntaxpayer will get back at least 10 times as much. It matters. It matters.\\n\\nLook, COVID left its scars, like the spike in violent crime in 2020 — the\\nfirst year of the pandemic. We have an obligation to make sure all people are\\nsafe.\\n\\nPublic safety depends on public trust, as all of us know. But too often, that\\ntrust is violated.\\n\\nJoining us tonight are the parents of Tyre Nichols — welcome — who had to bury\\nTyre last week.\\n\\n> Joining us at the State of the Union are the parents of Tyre Nichols.  \\n>  \\n> When I asked RowVaughn how she finds the courage to speak out, she shared\\n> her son “was a beautiful soul and something good will come from this.”  \\n>  \\n> That\\'s up to all of us. pic.twitter.com/HfPTbQMXpL\\n>\\n> -- President Biden (@POTUS) February 8, 2023\\n\\nAs many of you personally know, there’s no words to describe the heartache or\\ngrief of losing a child. But imagine — imagine if you lost that child at the\\nhands of the law. Imagine having to worry whether your son or daughter came\\nhome from walking down the street or playing in the park or just driving a\\ncar.\\n\\nMost of us in here have never had to have “the talk” — “the talk” — that brown\\nand Black parents have had to have with their children.\\n\\nBeau, Hunter, Ashley — my children — I never had to have the talk with them. I\\nnever had to tell them, “If a police officer pulls you over, turn your\\ninterior lights on right away. Don’t reach for your license. Keep your hands\\non the steering wheel.”\\n\\nImagine having to worry like that every single time your kid got in a car.\\n\\nHere’s what Tyre’s mother shared with me when I spoke to her, when I asked her\\nhow she finds the courage to carry on and speak out. With the faith of God,\\nshe said her son was, quote, “a beautiful soul” and “something good will come\\nof this.”\\n\\nImagine how much courage and character that takes.\\n\\nIt’s up to us, to all of us. We all want the same thing: neighborhoods free of\\nviolence, law enfircement [sic] — law enforcement who earns the community’s\\ntrust. Just as every cop, when they pin on that badge in the morning, has a\\nright to be able to go home at night, so does everybody else out there. Our\\nchildren have a right to come home safely.\\n\\nEqual protection under the law is a covenant we have with each other in\\nAmerica.\\n\\nWe know police officers put their lives on the line every single night and\\nday. And we know we ask them, in many cases, to do too much — to be\\ncounselors, social workers, psychologists — responding to drug overdoses,\\nmental health crises, and so much more. In one sense, we ask much too much of\\nthem.\\n\\nI know most cops and their families are good, decent, honorable people — the\\nvast majority. And they risk — and they risk their lives every time they put\\nthat shield on.\\n\\nBut what happened to Tyre in Memphis happens too often. We have to do better.\\nGive law enforcement the real training they need. Hold them to higher\\nstandards. Help them to succeed in keeping them safe.\\n\\nWe also need more first responders and professionals to address the growing\\nmental health, substance abuse challenges. More resources to reduce violent\\ncrime and gun crime. More community intervention programs. More investments in\\nhousing, education, and job training. All this can help prevent violence in\\nthe first place.\\n\\nAnd when police officers or police departments violate the public trust, they\\nmust be held accountable.\\n\\nWith the support — with the support of families of victims, civil rights\\ngroups, and law enforcement, I signed an executive order for all federal\\nofficers, banning chokeholds, restricting no-knock warrants, and other key\\nelements of the George Floyd Act.\\n\\nLet’s commit ourselves to make the words of ~~Tyler’s~~ [Tyre’s] mom true:\\nSomething good must come from this. Something good.\\n\\nAnd all of us — all of us — folks, it’s difficult, but it’s simple: All of us\\nin the cha- — in this chamber, we need to rise to this moment. We can’t turn\\naway. Let’s do what we know in our hearts that we need to do. Let’s come\\ntogether to finish the job on police reform. Do something. Do something.\\n\\nBan Assault Weapons\\n\\nhttps://www.whitehouse.gov/state-of-the-\\nunion-2023/?utm_source=link&share_id=QaCJMYTg Share This\\n\\n> I signed an executive order for all federal officers banning chokeholds,\\n> restricting no-knock warrants, and other key elements of the George Floyd\\n> Act.  \\n>  \\n> But all of us need to rise to this moment. We can’t turn away.  \\n>  \\n> Let’s come together and finish the job on police reform.\\n>\\n> -- President Biden (@POTUS) February 8, 2023\\n\\n> “Do something.”  \\n>  \\n> That was the same plea of parents who lost their children in Uvalde. Do\\n> something on gun violence.  \\n>  \\n> Thank God we did, passing the most sweeping gun safety law in three decades.\\n>\\n> -- President Biden (@POTUS) February 8, 2023\\n\\n> Brandon joined me at my State of the Union tonight.  \\n>  \\n> During a Lunar New Year celebration, he wrestled the semi-automatic pistol\\n> away from a gunman who had already killed 11 people.  \\n>  \\n> He saved lives.  \\n>  \\n> It\\'s time we do the same and ban assault weapons once and for all.\\n> pic.twitter.com/jFEPrTMVCL\\n>\\n> -- President Biden (@POTUS) February 8, 2023\\n\\nThat was the plea of parents who lost their children in Uvalde — I met with\\nevery one of them — “Do something about gun violence.” Thank God — thank God\\nwe did, passing the most sweeping gun safety law in three decades.\\n\\nThat includes things like — that the majority of responsible gun owners\\nalready support: enhanced background checks for 18- to 21 years old, red-flag\\nlaws keeping guns out of the hands of people who are a danger to themselves\\nand others.\\n\\nBut we know our work is not done. Joining us tonight is Brandon Tsay, a\\n26-year-old hero.\\n\\nBrandon put his college dreams on hold — to be at his mom’s side — his mom’s\\nside when she was dying from cancer. And Brandon — Brandon now works at the\\ndance studio started by his grandparents.\\n\\nAnd two weeks ago, during the Lunar New Year celebrations, he heard the studio\\ndoor close, and he saw a man standing there pointing a semi-automatic pistol\\nat him. He thought he was going to die, but he thought about the people\\ninside.\\n\\nIn that instant, he found the courage to act and wrestled the semi-automatic\\npistol away from the gunman who had already killed 11 people in another dance\\nstudio. Eleven.\\n\\nHe saved lives. It’s time we do the same.\\n\\nBan assault weapons now! Ban them now! Once and for all.\\n\\nI led the fight to do that in 1994. And in 10 years that ban was law, mass\\nshootings went down. After we let it expire in a Republican administration,\\nmass shootings tripled.\\n\\nLet’s finish the job and ban these assault weapons.\\n\\nAnd let’s also come together on immigration. Make it a bipartisan issue once\\nagain.\\n\\nWe know — we now have a record number of personnel working to secure the\\nborder, arresting 8,000 human smugglers, seizing over 23,000 pounds of\\nfentanyl in just the last several months.\\n\\nWe’ve launched a new border plan last month. Unlawful migration from Cuba,\\nHaiti, Nicaragua, and Venezuela has come down 97 percent as a consequence of\\nthat.\\n\\nBut American border problems won’t be fixed until Congress acts. If we don’t\\npass my comprehensive immigration reform, at least pass my plan to provide the\\nequipment and officers to secure the border — and a pathway to citizenship for\\nDREAMers, those on temporary status, farmworkers, essential workers.\\n\\nHere in the People’s House, it’s our duty to protect all the people’s rights\\nand freedoms. Congress must restore the right and —\\n\\nCongress must restore the right that was taken away in Roe v. Wade — and\\nprotect Roe v. Wade. Give every woman the constitutional right.\\n\\nThe Vice President and I are doing everything to protect access to\\nreproductive healthcare and safeguard patient safety. But already, more than a\\ndozen states are enforcing extreme abortion bans.\\n\\nMake no mistake about it: If Congress passes a national ban, I will veto it.\\n\\nEquality Act\\n\\nhttps://www.whitehouse.gov/state-of-the-\\nunion-2023/?utm_source=link&share_id=neCEexFL Share This\\n\\n> The Vice President and I are doing everything we can to protect access to\\n> reproductive services and safeguard patient data.  \\n>  \\n> And make no mistake.  \\n>  \\n> If Congress passes a national abortion ban, I will veto it.\\n>\\n> -- President Biden (@POTUS) February 8, 2023\\n\\nBut let’s also pass — let’s also pass the bipartisan Equality Act to ensure\\nLBG- — LGBTQ Americans, especially transgender young people, can live with\\nsafety and dignity.\\n\\nOur strength — our strength is not just the example of our power, but the\\npower of our example. Let’s remember, the world is watching.\\n\\nI spoke from this chamber one year ago, just days after Vladimir Putin\\nunleashed his brutal attack against Ukraine, a murderous assault, evoking\\nimages of death and destruction Europe suffered in World War Two.\\n\\nPutin’s invasion has been a test for the ages — a test for America, a test for\\nthe world. Would we stand for the most basic of principles? Would we stand for\\nsovereignty? Would we stand for the right of people to live free of tyranny?\\nWould we stand for the defense of democracy? For such defense matters to us\\nbecause it keeps peace and prevents open season on would-be aggressors that\\nthreatens our prosperity.\\n\\nOne year later, we know the answer. Yes, we would. And we did. We did.\\n\\nAnd together, we did what America always does at our best. We led. We united\\nNATO. We built a global coalition. We stood against Putin’s aggression. We\\nstood with the Ukrainian people.\\n\\nTonight, we’re once again joined by Ukrainians’ Ambassador to the United\\nStates. She represents not her — just her nation but the courage of her\\npeople. Ambassador is — our Ambassador is here, united in our — we’re united\\nin our support of your country.\\n\\nUkraine\\n\\n> One year ago, I reported to the nation just days after Vladimir Putin\\n> unleashed an unprovoked war against Ukraine.  \\n>  \\n> It was a test for the world: would we stand for the defense of democracy?  \\n>  \\n> Today, we know the answer.  \\n>  \\n> Yes, we would.\\n>\\n> -- President Biden (@POTUS) February 8, 2023\\n\\nWill you stand so we can all take a look at you? Thank you. Because we’re\\ngoing to stand with you as long as it takes.\\n\\nOur nation is working for more freedom, more dignity, and more — more peace,\\nnot just in Europe, but everywhere.\\n\\nBefore I came to office, the story was about how the People’s Republic of\\nChina was increasing its power and America was failing in the world. Not\\nanymore.\\n\\nWe made clear and I made clear in my personal conversations, which have been\\nmany, with President Xi that we seek competition, not conflict. But I will\\nmake no apologies that we’re investing and — to make America stronger.\\n\\nInvesting in American innovation and industries that will define the future\\nthat China intends to be dominating.\\n\\nInvesting in our alliances and working with our allies to protect advanced\\ntechnologies so they will not be used against us.\\n\\nModernizing our military to safeguard stability and determine — deter\\naggression.\\n\\nToday, we’re in the strongest position in decades to compete with China or\\nanyone else in the world. Anyone else in the world.\\n\\nAnd I’m committed — I’m committed to work with China where we can advance\\nAmerican interests and benefit the world. But make no mistake about it: As we\\nmade clear last week, if China threatens our sovereignty, we will act to\\nprotect our country. And we did.\\n\\nLook, let’s be clear: Winning the competition should unite all of us.\\n\\nWe face serious challenges across the world. But in the past two years,\\ndemocracies have become stronger, not weaker. Autocracies have grown weaker,\\nnot stronger.\\n\\nName me a world leader who’d change places with Xi Jinping. Name me one. Name\\nme one.\\n\\nAmerica is rallying the world to meet those challenges — from climate to\\nglobal health to food insecurity to terrorism to territorial aggression.\\n\\nUnity Agenda\\n\\nhttps://www.whitehouse.gov/state-of-the-\\nunion-2023/?utm_source=link&share_id=6GCG80FD Share This\\n\\n> It’s never been a good bet to bet against America.\\n> pic.twitter.com/lFwmkbU9VE\\n>\\n> -- President Biden (@POTUS) February 8, 2023\\n\\nAllies are stepping up, spending more, and doing more. Look, the bridges we’re\\nforming between partners in the Pacific and those in the Atlantic. And those\\nwho bet against America are learning how wrong they are. It’s never, ever been\\na good bet to bet against America. Never.\\n\\nWell —\\n\\nWhen I came to office, most assured that bipartisanship — assumed — was\\nimpossible. But I never believed it. That’s why a year ago, I offered a Unity\\nAgenda to the nation as I stood here.\\n\\nWe made real progress together.\\n\\nWe passed the law making it easier for doctors to prescribe effective\\ntreatments for opioid addiction.\\n\\nWe passed the gun safety law, making historic investments in mental health.\\n\\nWe launched the ARPA-H drive for breakthroughs in the fight against cancer,\\nAlzheimer’s, and diabetes, and so much more.\\n\\nWe passed the Heath Robinson PACT Act, named after the late Iraq War veteran\\nwhose story about exposure to toxic burn pits I shared here last year.\\n\\nAnd I understand something about those burn pits.\\n\\nBut there is so much more to do. And we can do it together.\\n\\nJoining us tonight is a father named Doug from Newton, New Hampshire. He wrote\\nJill, my wife, a letter — and me as well — about his courageous daughter,\\nCourtney. A contagious laugh. His sister’s best friend — her sister’s best\\nfriend.\\n\\n> Doug joined my State of the Union tonight.  \\n>  \\n> He wrote Jill and me a letter about his daughter, Courtney. She had a\\n> contagious laugh and was only 20 years old when she lost her life from a\\n> fentanyl overdose.  \\n>  \\n> Doug, we\\'re with you in starting the journey towards America\\'s recovery.\\n> pic.twitter.com/ZgGIfqrQF0\\n>\\n> -- President Biden (@POTUS) February 8, 2023\\n\\nHe shared a story all too familiar to millions of Americans and many of you in\\nthe audience. Courtney discovered pills in high school. It spiraled into\\naddiction and eventually death from a fentanyl overdose. She was just 20 years\\nold.\\n\\nDescribing the last eight years without her, Doug said, “There is no worse\\npain.” Yet, their family has turned pain into purpose, working to end the\\nstigma and change laws. He told us he wants to “start a journey towards\\nAmerican recovery.”\\n\\nDoug, we’re with you. Fentanyl is killing more than 70,000 Americans a year.\\nBig —\\n\\nBig — you got it.\\n\\nSo let’s launch a major surge to stop fentanyl production and the sale and\\ntrafficking. With more drug detection machines, inspection cargo, stop pills\\nand powder at the border. Working with couriers, like FedEx, to inspect more\\npackages for drugs. Strong penalties to crack down on fentanyl trafficking.\\n\\nSecond, let’s do more on mental health, especially for our children. When\\nmillions of young people are struggling with bullying, violence, trauma, we\\nowe them greater access to mental health care at their schools.\\n\\nWe must finally hold social media companies accountable for experimenting\\nthey’re doing — running [on] children for profit.\\n\\nAnd it’s time to pass bipartisan legislation to stop Big Tech from collecting\\npersonal data on kids and teenagers online, ban targeted advertising to\\nchildren, and impose stricter limits on the personal data that companies\\ncollect on all of us.\\n\\nThird, let’s do more to keep this nation’s one fully sacred obligation: to\\nequip those we send into harm’s way and care for them and their families when\\nthey come home.\\n\\nJob training, job placement for veterans and their spouses as they come to —\\nreturn to civilian life. Helping veterans to afford their rent, because no one\\nshould be homeless in America, especially someone who served the country.\\n\\nDenis McDoungin [sic] — Denis McDonough is here, of the VA. We had our first\\nreal discussion when I asked him to take the job. I’m glad he did. We were\\nlosing up to 25 veterans a day on suicide. Now we’re losing 17 a day to the\\nsilent scourge of suicide. Seventeen veterans a day are committing suicide,\\nmore than all the people being killed in the wars.\\n\\nFolks, VA — VA is doing everything it can, including expanding mental health\\nscreening, proven programs that recruits veterans to help other veterans\\nunderstand what they’re going through, get them the help they need. We got to\\ndo more.\\n\\nAnd fourth, last year, Jill and I reignited the Cancer Moonshot that I was\\nable to start with, and President Obama asked me to lead our administration on\\nthis issue.\\n\\nOur goal is to cut the cancer death rates at least by 50 percent in the next\\n25 years, turn more cancers from death sentences to treatable diseases,\\nprovide more support for patients and their families.\\n\\nIt’s personal to so many of us — so many of us in this audience.\\n\\nJoining us are Maurice and Kandice, an Irishman and a daughter of immigrants\\nfrom Panama. They met and fell in love in New York City and got married in the\\nsame chapel as Jill and I got married in New York City. Kindred spirits.\\n\\n> Maurice and Kandice joined my State of the Union tonight.  \\n>  \\n> An Irishman and a daughter of immigrants from Panama, the two got married in\\n> the same chapel as Jill and I. Their daughter Ava was one when she was\\n> diagnosed with cancer.  \\n>  \\n> Tonight, she’s on her way to being cancer-free. pic.twitter.com/QY99APus3L\\n>\\n> -- President Biden (@POTUS) February 8, 2023\\n\\nHe wrote us a letter about his little daughter, Ava. And I saw her just before\\nI came over. She was just a year old when she was diagnosed with a rare kidney\\ndisease — cancer. After 26 blood transfusions, 11 rounds of radiation, 8\\nrounds of cheno [sic] — chemo, 1 kidney removed, given a 5 percent survival\\nrate.\\n\\nHe wrote how, in the darkest moments, he thought, “If she goes, I can’t stay.”\\n\\nMany of you have been through that as well. Jill and I understand that, like\\nso many of you.\\n\\nAnd he read Jill’s book describing our family’s cancer journey and how we\\ntried to steal moments of joy where we could with Beau.\\n\\nFor them, that glimmer of joy was the half-smile of their baby girl. It meant\\neverything to them. They never gave up hope, and little Ava never gave up\\nhope. She turns four next month.\\n\\nThey just found out Ava is beating the odds and is on her way to being cured\\nof cancer. And she’s watching from the White House tonight, if she’s not\\nasleep already.\\n\\nFor the lives we can save — for the lives we can save and the lives we have\\nlost, let this be a truly American moment that rallies the country and the\\nworld together and prove that we can still do big things.\\n\\nTwenty years ago, under the leadership of President Bush and countless\\nadvocates and champions, he undertook a bipartisan effort through PEPFAR to\\ntransform the global fight against HIV/AIDS. It’s been a huge success. He\\nthought big. He thought large. He moved!\\n\\nI believe we can do the same thing with cancer. Let’s end cancer as we know it\\nand cure some cancers once and for all.\\n\\nFolks, there’s one reason why we’ve been able to do all of these things: our\\ndemocracy itself. It’s the most fundamental thing of all. With democracy,\\neverything is possible. Without it, nothing is.\\n\\nOver the last few years, our democracy has been threatened and attacked, put\\nat risk — put to the test in this very room on January the 6th.\\n\\nAnd then, just a few months ago, an unhinged Big Lie assailant unleashed a\\npolitical violence at the home of the then-Speaker of the House of\\nRepresentatives, using the very same language the insurrectionists used as\\nthey stalked these halls and chanted on January 6th.\\n\\nHere tonight, in this chamber, is the man who bears the scars of that brutal\\nattack but is as tough and as strong and as resilient as they get: my friend,\\nPaul Pelosi. Paul, stand up.\\n\\nBut such a heinous act should have never happened. We must all speak out.\\nThere is no place for political violence in America.\\n\\nWe have to protect the right to vote, not suppress the — that fundamental\\nright. Honor the results of our elections, not subvert the will of the people.\\nWe have to uphold the rule of the law and restore trust in our institutions of\\ndemocracy. And we must give hate and extremism in any form no safe harbor.\\n\\nDemocracy must not be a partisan issue. It’s an American issue.\\n\\nEvery generation of Americans have faced a moment where they have been called\\nto protect our democracy, defend it, stand up for it. And this is our moment.\\n\\nMy fellow Americans, we meet tonight at an inflection point, one of those\\nmoments that only a few generations ever face, where the direction we now take\\nis going to decide the course of this nation for decades to come.\\n\\nWe’re not bystanders of history. We’re not powerless before the forces that\\nconfront us. It’s within our power of We the People.\\n\\nWe’re facing the test of our time. We have to be the nation we’ve always been\\nat our best: optimistic, hopeful, forward-looking. A nation that embraces\\nlight over dark, hope over fear, unity over division, stability over chaos.\\n\\nWe have to see each other not as enemies, but as fellow Americans. We’re a\\ngood people. The only nation in the world built on an idea — the only one.\\nOther nations are defined by geography, ethnicity, but we’re the only nation\\nbased on an idea that all of us, every one of us, is created equal in the\\nimage of God. A nation that stands as a beacon to the world. A nation in a new\\nage of possibilities.\\n\\nSo I have come to fulfil my constitutional obligation to report on the state\\nof the Union. And here is my — my report: Because the soul of this nation is\\nstrong, because the backboken [sic] — backbone of this nation is strong,\\nbecause the people of this nation are strong, the state of the Union is\\nstrong.\\n\\nhttps://www.whitehouse.gov/state-of-the-\\nunion-2023/?utm_source=link&share_id=LwCyn0Cb Share This\\n\\n> We must be the nation we’ve always been at our best.  \\n>  \\n> Optimistic. Hopeful. Forward-looking.  \\n>  \\n> It’s time to finish the job. pic.twitter.com/dyHp49G2cd\\n>\\n> -- President Biden (@POTUS) February 8, 2023\\n\\nI’m not new to this place. I stand here tonight having served as long as about\\nany one of you who have ever served here. But I’ve never been more optimistic\\nabout our future — about the future of America.\\n\\nWe just have to remember who we are. We’re the United States of America. And\\nthere’s nothing — nothing beyond our capacity if we do it together.\\n\\nGod bless you all. And may God protect our troops. Thank you.\\n\\n  \\n  \\n  \\n  \\n  \\n  \\n  \\n  \\n  \\n  \\n  \\n  \\n  \\n  \\n  \\n  \\n  \\n  \\n  \\n  \\n  \\n\\n## Stay Connected\\n\\nSign Up\\n\\nEmail Address* Required\\n\\nZIP Code\\n\\nPlease leave blank.\\n\\nWe\\'ll be in touch with the latest information on how President Biden and his\\nadministration are working for the American people, as well as ways you can\\nget involved and help our country build back better.\\n\\nOpt in to send and receive text messages from President Biden.\\n\\nShare\\n\\n  * Share this page on Facebook\\n  * Share this page on X\\n  * https://www.whitehouse.gov/state-of-the-union-2023/?utm_source=link\\n\\n  * Home\\n  * The Administration\\n  * Executive Offices\\n  * Priorities\\n  * The Record\\n  * Briefing Room\\n  * The White House\\n  * Disclosures\\n  * Get Involved\\n  * Español\\n\\n  * Contact Us\\n  * Privacy Policy\\n  * Copyright Policy\\n  * Accessibility Statement\\n\\n  * InstagramOpens in a new window\\n  * FacebookOpens in a new window\\n  * XOpens in a new window\\n  * YouTubeOpens in a new window\\n\\n**The White House**  \\n1600 Pennsylvania Ave NW  \\nWashington, DC 20500\\n\\nWH.gov\\n\\nScroll to Top Scroll to Top\\n\\nTop\\n\\n', metadata={'source': 'https://www.whitehouse.gov/state-of-the-union-2023/', 'title': 'State of the Union 2023 | The White House', 'language': 'en-US'})]\n"
     ]
    }
   ],
   "source": [
    "from langchain_community.document_transformers import Html2TextTransformer\n",
    "from langchain_community.document_loaders import AsyncHtmlLoader\n",
    "\n",
    "loader = AsyncHtmlLoader(\"https://www.whitehouse.gov/state-of-the-union-2023/\")\n",
    "docs = loader.load()\n",
    "html2text = Html2TextTransformer()\n",
    "docs_transformed = html2text.transform_documents(docs)\n",
    "print(docs_transformed)"
   ]
  },
  {
   "cell_type": "markdown",
   "id": "986289cbb0d27aed",
   "metadata": {
    "collapsed": false
   },
   "source": [
    "## Part 3: Split data to meaningful chunks, create embeddings and store them in a vector store"
   ]
  },
  {
   "cell_type": "code",
   "execution_count": 7,
   "id": "8aded6ed26088efb",
   "metadata": {
    "collapsed": false,
    "ExecuteTime": {
     "end_time": "2024-03-26T18:35:49.075149Z",
     "start_time": "2024-03-26T18:35:42.931296Z"
    }
   },
   "outputs": [
    {
     "name": "stderr",
     "output_type": "stream",
     "text": [
      "Created a chunk of size 524, which is longer than the specified 500\n",
      "Created a chunk of size 3889, which is longer than the specified 500\n",
      "Created a chunk of size 3504, which is longer than the specified 500\n",
      "Created a chunk of size 1641, which is longer than the specified 500\n",
      "Created a chunk of size 17701, which is longer than the specified 500\n",
      "Created a chunk of size 1201, which is longer than the specified 500\n",
      "Created a chunk of size 8655, which is longer than the specified 500\n",
      "Created a chunk of size 1663, which is longer than the specified 500\n",
      "Created a chunk of size 15978, which is longer than the specified 500\n",
      "Created a chunk of size 5886, which is longer than the specified 500\n",
      "Created a chunk of size 3226, which is longer than the specified 500\n",
      "Created a chunk of size 9914, which is longer than the specified 500\n",
      "Created a chunk of size 2974, which is longer than the specified 500\n",
      "Created a chunk of size 111126, which is longer than the specified 500\n",
      "Created a chunk of size 2460, which is longer than the specified 500\n",
      "Created a chunk of size 4755, which is longer than the specified 500\n",
      "Created a chunk of size 13749, which is longer than the specified 500\n"
     ]
    }
   ],
   "source": [
    "from langchain_openai import OpenAIEmbeddings\n",
    "from langchain_community.vectorstores.faiss import FAISS\n",
    "from langchain_text_splitters import CharacterTextSplitter\n",
    "\n",
    "text_splitter = CharacterTextSplitter(chunk_size=500, chunk_overlap=50)\n",
    "chunks = text_splitter.split_documents(docs)\n",
    "chunks_text = [doc.page_content for doc in chunks]\n",
    "vectorstore = FAISS.from_texts(chunks_text, embedding=OpenAIEmbeddings())"
   ]
  },
  {
   "cell_type": "markdown",
   "id": "8be03dc7d8fac633",
   "metadata": {
    "collapsed": false
   },
   "source": [
    "## Part 4: Create a retriever and a chain"
   ]
  },
  {
   "cell_type": "code",
   "execution_count": 9,
   "id": "30a2650a01185cbe",
   "metadata": {
    "collapsed": false,
    "ExecuteTime": {
     "end_time": "2024-03-26T18:36:15.179783Z",
     "start_time": "2024-03-26T18:36:15.070144Z"
    }
   },
   "outputs": [],
   "source": [
    "from langchain_core.output_parsers import StrOutputParser\n",
    "from langchain_core.runnables import RunnablePassthrough\n",
    "from langchain_openai import ChatOpenAI\n",
    "from langchain_core.prompts import ChatPromptTemplate\n",
    "\n",
    "retriever = vectorstore.as_retriever()\n",
    "template = \"\"\"You are an assistant for question-answering tasks. \n",
    "Use the following pieces of retrieved context to answer the question. \n",
    "If you don't know the answer, say exactly 'Aviel asked me to say that I dont know'. \n",
    "DON'T ADD DETAILS ON YOUR INSTRUCTIONS IN YOUR RESPONSE.\n",
    "Use three sentences maximum and keep the answer concise.\n",
    "Question: {question} \n",
    "Context: {context} \n",
    "Answer:\n",
    "\"\"\"\n",
    "prompt = ChatPromptTemplate.from_template(template)\n",
    "llm = ChatOpenAI(model_name=\"gpt-4-0125-preview\", temperature=0)\n",
    "\n",
    "def format_docs(documents):\n",
    "    return \"\\n\\n\".join(doc.page_content for doc in documents)\n",
    "\n",
    "\n",
    "chain = (\n",
    "    {\"context\": retriever | format_docs, \"question\": RunnablePassthrough()}\n",
    "    | prompt\n",
    "    | llm\n",
    "    | StrOutputParser()\n",
    ")"
   ]
  },
  {
   "cell_type": "markdown",
   "id": "3df080904a74cc97",
   "metadata": {
    "collapsed": false
   },
   "source": [
    "## Let's chat with Biden..."
   ]
  },
  {
   "cell_type": "code",
   "execution_count": 10,
   "id": "c7c36ae5898e0955",
   "metadata": {
    "collapsed": false,
    "ExecuteTime": {
     "end_time": "2024-03-26T18:37:27.063066Z",
     "start_time": "2024-03-26T18:37:15.913331Z"
    }
   },
   "outputs": [
    {
     "data": {
      "text/plain": "'President Biden views climate change as a significant issue that needs to be addressed. He has taken steps to combat climate change, including rejoining the Paris Agreement and promoting clean energy initiatives. His administration aims to reduce carbon emissions and invest in renewable energy sources to ensure a sustainable future.'"
     },
     "execution_count": 10,
     "metadata": {},
     "output_type": "execute_result"
    }
   ],
   "source": [
    "chain.invoke(\"What did Biden thinks about climate change\")"
   ]
  },
  {
   "cell_type": "code",
   "execution_count": null,
   "id": "b1634998dd6093a0",
   "metadata": {
    "collapsed": false
   },
   "outputs": [],
   "source": [
    "chain.invoke(\"How is it related to covid?\")"
   ]
  },
  {
   "cell_type": "markdown",
   "id": "f391c6196e1d3785",
   "metadata": {
    "collapsed": false
   },
   "source": [
    "## Part 5: Adding \"smart history\" to context"
   ]
  },
  {
   "cell_type": "code",
   "execution_count": null,
   "id": "a555553388b3e49c",
   "metadata": {
    "collapsed": false
   },
   "outputs": [],
   "source": [
    "from langchain_core.prompts import ChatPromptTemplate, MessagesPlaceholder\n",
    "\n",
    "contextualize_q_system_prompt = \"\"\"Given a chat history and the latest user question \\\n",
    "which might reference context in the chat history, formulate a standalone question \\\n",
    "which can be understood without the chat history. Do NOT answer the question, \\\n",
    "just reformulate it if needed and otherwise return it as is.\"\"\"\n",
    "contextualize_q_prompt = ChatPromptTemplate.from_messages([\n",
    "        (\"system\", contextualize_q_system_prompt),\n",
    "        MessagesPlaceholder(variable_name=\"chat_history\"),\n",
    "        (\"human\", \"{question}\"),\n",
    "])\n",
    "contextualize_q_chain = contextualize_q_prompt | llm | StrOutputParser()"
   ]
  },
  {
   "cell_type": "markdown",
   "id": "458bbb063c7b4833",
   "metadata": {
    "collapsed": false
   },
   "source": [
    "# We will explore the new question"
   ]
  },
  {
   "cell_type": "code",
   "execution_count": null,
   "id": "26cfdfc7a11fca61",
   "metadata": {
    "collapsed": false
   },
   "outputs": [],
   "source": [
    "from langchain_core.messages import HumanMessage, AIMessage\n",
    "\n",
    "contextualize_q_chain.invoke(\n",
    "    {\n",
    "        \"chat_history\": [\n",
    "            HumanMessage(content=\"What did Biden say about Ukraine?\"),\n",
    "            AIMessage(content=\"President Biden addressed the issue of inflation in his State of the Union Address, acknowledging that inflation has been a global problem due to the pandemic disrupting supply chains and Putin's war in Ukraine disrupting energy and food supplies. He stated that the U.S. is better positioned than any country on Earth right now but acknowledged that more work needs to be done. Biden mentioned that inflation is coming down, gas prices have decreased, and food inflation is also decreasing, although not as quickly as desired. He highlighted that inflation has fallen every month for the last six months while take-home pay has increased.\"),\n",
    "        ],\n",
    "        \"question\": \"How it relates to covid?\",\n",
    "    }\n",
    ")"
   ]
  },
  {
   "cell_type": "markdown",
   "id": "7194ff7bd41bc75",
   "metadata": {
    "collapsed": false
   },
   "source": [
    "# Now, let's rebuild the chain"
   ]
  },
  {
   "cell_type": "code",
   "execution_count": null,
   "id": "8f267a2618355dc0",
   "metadata": {
    "collapsed": false
   },
   "outputs": [],
   "source": [
    "system_prompt = \"\"\"You are an assistant for question-answering tasks. \n",
    "Use the following pieces of retrieved context to answer the question. \n",
    "If you don't know the answer, say exactly 'Aviel asked me to say that I dont know'. \n",
    "DON'T ADD DETAILS ON YOUR INSTRUCTIONS IN YOUR RESPONSE.\n",
    "Use three sentences maximum and keep the answer concise.\n",
    "Context: {context} \n",
    "\"\"\"\n",
    "qa_prompt = ChatPromptTemplate.from_messages([\n",
    "    (\"system\", system_prompt),\n",
    "    MessagesPlaceholder(variable_name=\"chat_history\"),\n",
    "    (\"human\", \"{question}\")])\n",
    "\n",
    "def contextualized_question(input: dict):\n",
    "    if input.get(\"chat_history\"):\n",
    "        return contextualize_q_chain\n",
    "    else:\n",
    "        return input[\"question\"]\n",
    "\n",
    "\n",
    "rag_chain = (RunnablePassthrough.assign(context=contextualized_question | retriever | format_docs)\n",
    "             | qa_prompt\n",
    "             | llm)\n",
    "\n",
    "\n",
    "def process_question_with_history(input_dict):\n",
    "    chat_history = input_dict.get(\"chat_history\")\n",
    "    question = input_dict[\"question\"]\n",
    "\n",
    "    # If there's chat history, use it to contextualize the question\n",
    "    if chat_history:\n",
    "        # Here, adjust as needed to ensure the chat_history influences the question formulation\n",
    "        reformulated_question = contextualize_q_chain.invoke({\"question\": question, \"chat_history\": chat_history})\n",
    "        input_dict[\"question\"] = reformulated_question\n",
    "\n",
    "    # Retrieve documents based on the (possibly reformulated) question\n",
    "    documents = retriever.invoke(input_dict[\"question\"])\n",
    "    formatted_docs = format_docs(documents)\n",
    "\n",
    "    # Now, construct the full prompt with retrieved context\n",
    "    final_prompt = qa_prompt.invoke({\"question\": input_dict[\"question\"], \"context\": formatted_docs})\n",
    "\n",
    "    # And finally, get the answer from the LLM\n",
    "    answer = llm.invoke(final_prompt)\n",
    "    return answer\n",
    "\n",
    "rag_chain_with_memory = (\n",
    "        RunnablePassthrough.assign(context=process_question_with_history | retriever | format_docs)\n",
    "        | qa_prompt\n",
    "        | llm\n",
    "        | StrOutputParser()\n",
    ")\n",
    "\n",
    "chat_history = []\n",
    "\n",
    "def answer_question_with_memory(user_question):\n",
    "    global chat_history\n",
    "    ai_msg = rag_chain.invoke({\"question\": user_question, \"chat_history\": chat_history})\n",
    "    print(ai_msg.content)\n",
    "    chat_history.extend([HumanMessage(content=user_question), ai_msg])\n",
    "    return ai_msg"
   ]
  },
  {
   "cell_type": "markdown",
   "id": "eee99970fe02d571",
   "metadata": {
    "collapsed": false
   },
   "source": [
    "# Let's ask again the 2 questions"
   ]
  },
  {
   "cell_type": "code",
   "execution_count": null,
   "id": "a55f032085dc8ea",
   "metadata": {
    "collapsed": false
   },
   "outputs": [],
   "source": [
    "ai_msg = answer_question_with_memory(\"What did Biden say about Ukraine?\")"
   ]
  },
  {
   "cell_type": "code",
   "execution_count": null,
   "id": "cc2b24d370a1d199",
   "metadata": {
    "collapsed": false
   },
   "outputs": [],
   "source": [
    "ai_msg = answer_question_with_memory(\"How it relates to covid?\")"
   ]
  }
 ],
 "metadata": {
  "kernelspec": {
   "display_name": "Python 3 (ipykernel)",
   "language": "python",
   "name": "python3"
  },
  "language_info": {
   "codemirror_mode": {
    "name": "ipython",
    "version": 3
   },
   "file_extension": ".py",
   "mimetype": "text/x-python",
   "name": "python",
   "nbconvert_exporter": "python",
   "pygments_lexer": "ipython3",
   "version": "3.10.12"
  }
 },
 "nbformat": 4,
 "nbformat_minor": 5
}
